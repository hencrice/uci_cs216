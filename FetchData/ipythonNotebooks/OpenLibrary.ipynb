{
 "metadata": {
  "name": "",
  "signature": "sha256:bc20fc69fd99d21b73b4d5806d72d36697469ac62f451fc984c805535cfb1ad6"
 },
 "nbformat": 3,
 "nbformat_minor": 0,
 "worksheets": [
  {
   "cells": [
    {
     "cell_type": "code",
     "collapsed": false,
     "input": [
      "import json\n",
      "from urllib2 import urlopen\n",
      "from urllib import urlencode\n",
      "from cStringIO import StringIO\n",
      "from PIL import Image\n",
      "from numpy import array, float32"
     ],
     "language": "python",
     "metadata": {},
     "outputs": [],
     "prompt_number": 106
    },
    {
     "cell_type": "markdown",
     "metadata": {},
     "source": [
      "Define a function that can be imported by other module:"
     ]
    },
    {
     "cell_type": "code",
     "collapsed": false,
     "input": [
      "criteria={'title':'''Harry Potter and the Philosopher's Stone'''}\n",
      "legalKeys=set((\"title\", \"author\", \"q\"))\n",
      "searchUrlBase='http://openlibrary.org/search.json?'\n",
      "assert len(criteria)>0 and set(criteria.keys()) <= legalKeys, \"No keys or illegal keys found in criteria\"\n",
      "results=json.loads(''.join(urlopen(searchUrlBase+urlencode(criteria)).readlines()))"
     ],
     "language": "python",
     "metadata": {},
     "outputs": [],
     "prompt_number": 70
    },
    {
     "cell_type": "code",
     "collapsed": false,
     "input": [
      "coverBaseUrl='http://covers.openlibrary.org/b/olid/{0}-{1}.jpg'\n",
      "file = StringIO(urlopen(coverBaseUrl.format('OL9142275M','M')).read())\n",
      "img = Image.open(file)\n",
      "shape(array(img, float32))"
     ],
     "language": "python",
     "metadata": {},
     "outputs": [
      {
       "metadata": {},
       "output_type": "pyout",
       "prompt_number": 107,
       "text": [
        "(187, 114, 3)"
       ]
      }
     ],
     "prompt_number": 107
    },
    {
     "cell_type": "code",
     "collapsed": false,
     "input": [
      "legalKeys=set((\"title\", \"author\", \"q\"))\n",
      "searchBaseUrl='http://openlibrary.org/search.json?'\n",
      "coverBaseUrl='http://covers.openlibrary.org/b/olid/{0}-{1}.jpg'\n",
      "fieldsToKeep=('cover_edition_key', 'title', 'author_name')\n",
      "\n",
      "def searchAndGetBookInfo(criteria, coverImgSize='M', limit=1):\n",
      "    '''\n",
      "    Input:\n",
      "        criteria: A dictionary specifies the search criteria. Legal keys are: \"title\", \"author\", and \"q\" for\n",
      "        general search.\n",
      "        \n",
      "        coverImgSize: There are 'L', 'M', 'S'.\n",
      "        \n",
      "        limit: When there are multiple hits for the search, how many records to return (with book cover images).\n",
      "    Returns:\n",
      "        numOfHits: Integer represents the number of hits of this search.\n",
      "        results: List of JSONs with fields: \"cover_edition_key\", \"title\", \"author_name\", \"cover_img\"\n",
      "    '''\n",
      "    assert len(criteria)>0 and set(criteria.keys()) <= legalKeys, \"No keys or illegal keys found in criteria\"\n",
      "    results=json.loads(''.join(urlopen(searchUrlBase+urlencode(criteria)).readlines()))\n",
      "    numOfHits=results['numFound']\n",
      "    results=results['docs']\n",
      "    for i, r in enumerate(results):\n",
      "        if i==limit: # got enough records\n",
      "            break\n",
      "        if 'cover_edition_key' not in r: # if we can't fetch book cover image, ignore this record\n",
      "            continue\n",
      "#         results[i]={f:r[f] if f in r else None for f in fieldsToKeep}\n",
      "        results[i]={f:r[f] for f in fieldsToKeep} # remove all redundant fields\n",
      "        # create numpy array from remote jpg files\n",
      "        img = Image.open(StringIO(urlopen(coverBaseUrl.format(r['cover_edition_key'], coverImgSize)).read()))\n",
      "        results[i]['cover_img']=array(img, float32)\n",
      "    return numOfHits, results"
     ],
     "language": "python",
     "metadata": {},
     "outputs": [],
     "prompt_number": 111
    },
    {
     "cell_type": "code",
     "collapsed": false,
     "input": [
      "criteria={'title':'''Harry Potter and the Philosopher's Stone'''}\n",
      "n, results=searchAndBookInfo(criteria)\n",
      "print((n, results[0]['title'], results[0]['author_name'], results[0]['cover_img'].shape))"
     ],
     "language": "python",
     "metadata": {},
     "outputs": [
      {
       "output_type": "stream",
       "stream": "stdout",
       "text": [
        "(19, u\"Harry Potter and the Philosopher's Stone\", [u'J. K. Rowling'], (187, 114, 3))\n"
       ]
      }
     ],
     "prompt_number": 119
    }
   ],
   "metadata": {}
  }
 ]
}